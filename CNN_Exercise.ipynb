{
  "nbformat": 4,
  "nbformat_minor": 0,
  "metadata": {
    "colab": {
      "name": "CNN_Exercise.ipynb",
      "provenance": [],
      "authorship_tag": "ABX9TyNVSoH+6Um30hClOVyrTomY",
      "include_colab_link": true
    },
    "kernelspec": {
      "name": "python3",
      "display_name": "Python 3"
    },
    "language_info": {
      "name": "python"
    }
  },
  "cells": [
    {
      "cell_type": "markdown",
      "metadata": {
        "id": "view-in-github",
        "colab_type": "text"
      },
      "source": [
        "<a href=\"https://colab.research.google.com/github/jessamcs/Week11_DeepLearning/blob/main/CNN_Exercise.ipynb\" target=\"_parent\"><img src=\"https://colab.research.google.com/assets/colab-badge.svg\" alt=\"Open In Colab\"/></a>"
      ]
    },
    {
      "cell_type": "code",
      "execution_count": null,
      "metadata": {
        "id": "1nZxVsTQJ73s"
      },
      "outputs": [],
      "source": [
        "# Imports\n",
        "import numpy as np\n",
        "import matplotlib.pyplot as plt\n",
        "import pandas as pd\n",
        "from sklearn.preprocessing import StandardScaler\n",
        "from tensorflow.keras.models import Sequential\n",
        "from tensorflow.keras.layers import Dense, Flatten, Conv2D, MaxPooling2D\n",
        "from tensorflow.keras.utils import to_categorical\n",
        "from tensorflow.keras.datasets import mnist\n"
      ]
    },
    {
      "cell_type": "code",
      "source": [
        "# Get data - it is already split into training and testing sets\n",
        "(X_train, y_train), (X_test, y_test) = mnist.load_data()\n",
        "\n"
      ],
      "metadata": {
        "id": "MzoWNySlLQz1"
      },
      "execution_count": null,
      "outputs": []
    },
    {
      "cell_type": "code",
      "source": [
        "X_train.shape\n"
      ],
      "metadata": {
        "colab": {
          "base_uri": "https://localhost:8080/"
        },
        "id": "O4-DsvBRLUHF",
        "outputId": "d3ac5f1f-97c0-4005-8f79-df35ad801f9b"
      },
      "execution_count": null,
      "outputs": [
        {
          "output_type": "execute_result",
          "data": {
            "text/plain": [
              "(60000, 28, 28)"
            ]
          },
          "metadata": {},
          "execution_count": 3
        }
      ]
    },
    {
      "cell_type": "code",
      "source": [
        "# Scale data between 0 and 1\n",
        "X_train = X_train / 255\n",
        "X_test = X_test / 255\n",
        "\n"
      ],
      "metadata": {
        "id": "gvR5bexjLWlN"
      },
      "execution_count": null,
      "outputs": []
    },
    {
      "cell_type": "code",
      "source": [
        "# Reshape data\n",
        "X_train = X_train.reshape(X_train.shape[0], 28, 28, 1)\n",
        "X_test = X_test.reshape(X_test.shape[0], 28, 28, 1)\n"
      ],
      "metadata": {
        "id": "RWBFNk5WLYnN"
      },
      "execution_count": null,
      "outputs": []
    },
    {
      "cell_type": "code",
      "source": [
        "y_train = to_categorical(y_train, num_classes = 10)\n",
        "y_test = to_categorical(y_test, num_classes = 10)\n",
        "\n"
      ],
      "metadata": {
        "id": "TAPN2scALg6g"
      },
      "execution_count": null,
      "outputs": []
    },
    {
      "cell_type": "code",
      "source": [
        "# Step 1: Define our network structure\n",
        "# Save the input shape\n",
        "input_shape = X_train.shape[1:4]\n",
        "input_shape\n"
      ],
      "metadata": {
        "colab": {
          "base_uri": "https://localhost:8080/"
        },
        "id": "3_4QTZ1QLiM_",
        "outputId": "ebab33a2-4f3b-4079-c5a0-78d0953632ea"
      },
      "execution_count": null,
      "outputs": [
        {
          "output_type": "execute_result",
          "data": {
            "text/plain": [
              "(28, 28, 1)"
            ]
          },
          "metadata": {},
          "execution_count": 7
        }
      ]
    },
    {
      "cell_type": "code",
      "source": [
        "# Sequential model\n",
        "model = Sequential()\n"
      ],
      "metadata": {
        "id": "q7-5fltpLlSR"
      },
      "execution_count": null,
      "outputs": []
    },
    {
      "cell_type": "code",
      "source": [
        "# Convolutional layer\n",
        "model.add(Conv2D(filters = 8, # How many filters you want to use\n",
        "                 kernel_size = 3, # size of each filter\n",
        "                 activation ='relu')) # What is the shape of your input features (we defined this above)\n",
        "# Pooling layer\n",
        "model.add(MaxPooling2D(pool_size = 2)) # Size of pooling\n",
        "# Flattening layer\n",
        "model.add(Flatten())\n",
        "# Output layer\n",
        "model.add(Dense(10, # How many output possibilities we have\n",
        "                activation = 'softmax')) # What activation function are you using?\n"
      ],
      "metadata": {
        "id": "g9X-6H6wLobG"
      },
      "execution_count": null,
      "outputs": []
    },
    {
      "cell_type": "code",
      "source": [
        "# Step 2: Compile\n",
        "model.compile(loss = 'categorical_crossentropy', optimizer = 'adam', metrics = ['acc'])\n",
        "\n"
      ],
      "metadata": {
        "id": "9F9L0RMEL2sI"
      },
      "execution_count": null,
      "outputs": []
    },
    {
      "cell_type": "code",
      "source": [
        "# Step 3: Fit our model\n",
        "history = model.fit(X_train, y_train,\n",
        "                    validation_data = (X_test, y_test), \n",
        "                    epochs=20)\n",
        "\n"
      ],
      "metadata": {
        "colab": {
          "base_uri": "https://localhost:8080/"
        },
        "id": "rkXGnEH-L4l-",
        "outputId": "e8037104-d097-4909-e76c-03bb42369384"
      },
      "execution_count": null,
      "outputs": [
        {
          "output_type": "stream",
          "name": "stdout",
          "text": [
            "Epoch 1/20\n",
            "1875/1875 [==============================] - 32s 17ms/step - loss: 0.2963 - acc: 0.9159 - val_loss: 0.1399 - val_acc: 0.9576\n",
            "Epoch 2/20\n",
            "1875/1875 [==============================] - 18s 10ms/step - loss: 0.1230 - acc: 0.9650 - val_loss: 0.0954 - val_acc: 0.9720\n",
            "Epoch 3/20\n",
            "1875/1875 [==============================] - 18s 10ms/step - loss: 0.0933 - acc: 0.9729 - val_loss: 0.0840 - val_acc: 0.9735\n",
            "Epoch 4/20\n",
            "1875/1875 [==============================] - 18s 9ms/step - loss: 0.0782 - acc: 0.9767 - val_loss: 0.0768 - val_acc: 0.9767\n",
            "Epoch 5/20\n",
            "1875/1875 [==============================] - 18s 10ms/step - loss: 0.0687 - acc: 0.9798 - val_loss: 0.0686 - val_acc: 0.9769\n",
            "Epoch 6/20\n",
            "1875/1875 [==============================] - 18s 10ms/step - loss: 0.0611 - acc: 0.9819 - val_loss: 0.0661 - val_acc: 0.9798\n",
            "Epoch 7/20\n",
            "1875/1875 [==============================] - 20s 11ms/step - loss: 0.0549 - acc: 0.9831 - val_loss: 0.0699 - val_acc: 0.9771\n",
            "Epoch 8/20\n",
            "1875/1875 [==============================] - 18s 10ms/step - loss: 0.0511 - acc: 0.9847 - val_loss: 0.0616 - val_acc: 0.9786\n",
            "Epoch 9/20\n",
            "1875/1875 [==============================] - 18s 9ms/step - loss: 0.0460 - acc: 0.9857 - val_loss: 0.0669 - val_acc: 0.9782\n",
            "Epoch 10/20\n",
            "1875/1875 [==============================] - 18s 9ms/step - loss: 0.0428 - acc: 0.9868 - val_loss: 0.0582 - val_acc: 0.9823\n",
            "Epoch 11/20\n",
            "1875/1875 [==============================] - 18s 9ms/step - loss: 0.0396 - acc: 0.9879 - val_loss: 0.0691 - val_acc: 0.9792\n",
            "Epoch 12/20\n",
            "1875/1875 [==============================] - 18s 9ms/step - loss: 0.0373 - acc: 0.9885 - val_loss: 0.0594 - val_acc: 0.9829\n",
            "Epoch 13/20\n",
            "1875/1875 [==============================] - 18s 9ms/step - loss: 0.0350 - acc: 0.9891 - val_loss: 0.0623 - val_acc: 0.9809\n",
            "Epoch 14/20\n",
            "1875/1875 [==============================] - 18s 10ms/step - loss: 0.0327 - acc: 0.9901 - val_loss: 0.0638 - val_acc: 0.9815\n",
            "Epoch 15/20\n",
            "1875/1875 [==============================] - 18s 9ms/step - loss: 0.0303 - acc: 0.9909 - val_loss: 0.0596 - val_acc: 0.9834\n",
            "Epoch 16/20\n",
            "1875/1875 [==============================] - 18s 9ms/step - loss: 0.0289 - acc: 0.9912 - val_loss: 0.0623 - val_acc: 0.9826\n",
            "Epoch 17/20\n",
            "1875/1875 [==============================] - 18s 9ms/step - loss: 0.0274 - acc: 0.9913 - val_loss: 0.0619 - val_acc: 0.9814\n",
            "Epoch 18/20\n",
            "1875/1875 [==============================] - 18s 9ms/step - loss: 0.0257 - acc: 0.9923 - val_loss: 0.0616 - val_acc: 0.9820\n",
            "Epoch 19/20\n",
            "1875/1875 [==============================] - 18s 10ms/step - loss: 0.0243 - acc: 0.9926 - val_loss: 0.0634 - val_acc: 0.9837\n",
            "Epoch 20/20\n",
            "1875/1875 [==============================] - 18s 10ms/step - loss: 0.0233 - acc: 0.9929 - val_loss: 0.0638 - val_acc: 0.9839\n"
          ]
        }
      ]
    },
    {
      "cell_type": "code",
      "source": [
        "# Visualize the loss\n",
        "plt.plot(history.history['loss'], label='Train loss')\n",
        "plt.plot(history.history['val_loss'], label='Test Loss')\n",
        "plt.legend();\n",
        "\n"
      ],
      "metadata": {
        "colab": {
          "base_uri": "https://localhost:8080/",
          "height": 265
        },
        "id": "coquVsT9SDNE",
        "outputId": "5d4fc71f-242c-4f91-e933-6e50a24d8275"
      },
      "execution_count": null,
      "outputs": [
        {
          "output_type": "display_data",
          "data": {
            "image/png": "[encoded data removed]",
            "text/plain": [
              "<Figure size 432x288 with 1 Axes>"
            ]
          },
          "metadata": {
            "needs_background": "light"
          }
        }
      ]
    },
    {
      "cell_type": "code",
      "source": [
        "# Visualize the accuracy\n",
        "plt.plot(history.history['acc'], label='Train Accuracy')\n",
        "plt.plot(history.history['val_acc'], label='Test Accuracy')\n",
        "plt.legend();\n",
        "\n"
      ],
      "metadata": {
        "colab": {
          "base_uri": "https://localhost:8080/",
          "height": 265
        },
        "id": "VFzVooOkSGHo",
        "outputId": "44ec4dcc-fd18-47c6-fa03-49c5329a8afc"
      },
      "execution_count": null,
      "outputs": [
        {
          "output_type": "display_data",
          "data": {
            "image/png": "[encoded data removed]",
            "text/plain": [
              "<Figure size 432x288 with 1 Axes>"
            ]
          },
          "metadata": {
            "needs_background": "light"
          }
        }
      ]
    }
  ]
}